{
 "cells": [
  {
   "cell_type": "markdown",
   "id": "15bde02f-e06a-4bed-bc43-ea3acbe2c684",
   "metadata": {
    "microsoft": {
     "language": "python",
     "language_group": "jupyter_python"
    },
    "nteract": {
     "transient": {
      "deleting": false
     }
    }
   },
   "source": [
    "- spike_flag: Easily filter/aggregate viral traffic events.\n",
    "- product_id, sku: Enables product-level analytics and joins with other domains.\n",
    "- cart_spike_magnitude: Quantifies demand surges for anomaly detection and dashboards."
   ]
  },
  {
   "cell_type": "code",
   "execution_count": null,
   "id": "31b8fcee-40e2-4c8d-a46d-4901115f73c7",
   "metadata": {
    "microsoft": {
     "language": "python",
     "language_group": "jupyter_python"
    }
   },
   "outputs": [],
   "source": [
    "# Welcome to your new notebook\n",
    "# Clickstream Event Simulator Notebook\n",
    "\n",
    "import json\n",
    "import uuid\n",
    "import random\n",
    "import time\n",
    "from datetime import datetime\n",
    "import threading\n"
   ]
  },
  {
   "cell_type": "code",
   "execution_count": null,
   "id": "83801cd5-3c4c-4553-834a-eadb5df54f55",
   "metadata": {
    "microsoft": {
     "language": "python",
     "language_group": "jupyter_python"
    }
   },
   "outputs": [],
   "source": [
    "!pip install azure-eventhub"
   ]
  },
  {
   "cell_type": "code",
   "execution_count": null,
   "id": "26ba63be-0140-4cee-9304-ab901d8ae577",
   "metadata": {
    "microsoft": {
     "language": "python",
     "language_group": "jupyter_python"
    }
   },
   "outputs": [],
   "source": [
    "from azure.eventhub import EventHubProducerClient, EventData\n",
    "\n",
    "# -- Configurable Variables --\n",
    "EVENT_HUB_CONNECTION_STR = \"<YOUR_EVENT_HUBS_CONNECTION_STRING>\"\n",
    "EVENT_HUB_NAME = \"<YOUR_EVENT_HUB_NAME>\"\n",
    "EVENTS_PER_SECOND = 10  # Adjust simulation load\n",
    "\n",
    "USER_COUNTRIES = [\n",
    "    (\"DE\", \"Germany\"), (\"UK\", \"United Kingdom\"), (\"US\", \"United States\"),\n",
    "    (\"FR\", \"France\"), (\"IT\", \"Italy\"), (\"ES\", \"Spain\"),\n",
    "    (\"NL\", \"Netherlands\"), (\"IN\", \"India\"), (\"CN\", \"China\")\n",
    "]\n",
    "\n",
    "PAGES = [\"/\", \"/genz-pros\", \"/altars\", \"/colours\", \"/kids\", \"/cart\", \"/checkout\"]\n",
    "PRODUCT_IDS = [f\"PROD{4000 + i}\" for i in range(20)]\n",
    "SKU = [f\"SKU{4000 + i}\" for i in range(20)]\n",
    "\n",
    "EVENT_TYPES = [\n",
    "    \"page_view\", \"product_click\", \"add_to_cart\", \"remove_from_cart\",\n",
    "    \"checkout_initiated\", \"purchase_completed\", \"account_created\",\n",
    "    \"newsletter_subscribed\", \"newsletter_unsubscribed\"\n",
    "]\n",
    "\n",
    "REFERRAL_TYPES = [\n",
    "    \"organic_search\", \"facebook\", \"instagram\", \"tiktok\", \"pinterest\", \"twitter\", \"direct\", \"other_social\", \"affiliate\"\n",
    "]\n",
    "\n"
   ]
  },
  {
   "cell_type": "code",
   "execution_count": null,
   "id": "d7f25483-71a2-49f1-8f9c-06d1a9c7b79d",
   "metadata": {
    "microsoft": {
     "language": "python",
     "language_group": "jupyter_python"
    }
   },
   "outputs": [],
   "source": [
    "# --- Helper Functions ---\n",
    "def random_ip():\n",
    "    return \".\".join(str(random.randint(1, 254)) for _ in range(4))\n",
    "\n",
    "def now_utc():\n",
    "    return datetime.utcnow().isoformat() + \"Z\"\n",
    "\n",
    "def random_click_path():\n",
    "    start_pages = [\"/\", \"/genz-pros\", \"/altars\", \"/colours\", \"/kids\"]\n",
    "    num_steps = random.randint(2, 6)\n",
    "    path = [random.choice(start_pages)]\n",
    "    for _ in range(num_steps - 1):\n",
    "        path.append(random.choice(PAGES))\n",
    "    return path\n",
    "\n",
    "def random_referral():\n",
    "    ref = random.choice(REFERRAL_TYPES)\n",
    "    if ref == \"organic_search\":\n",
    "        return {\"source_type\": \"search\", \"platform\": \"Google\"}\n",
    "    elif ref in {\"facebook\", \"instagram\", \"tiktok\", \"pinterest\", \"twitter\", \"other_social\"}:\n",
    "        return {\"source_type\": \"social\", \"platform\": ref.capitalize()}\n",
    "    elif ref == \"affiliate\":\n",
    "        return {\"source_type\": \"affiliate\", \"platform\": \"AffiliateNetwork\"}\n",
    "    else:  # direct\n",
    "        return {\"source_type\": \"direct\", \"platform\": \"\"}\n",
    "\n",
    "def random_browser():\n",
    "    browsers = [\"Chrome\", \"Firefox\", \"Safari\", \"Edge\", \"Opera\", \"Brave\", \"IE\"]\n",
    "    return random.choice(browsers)\n",
    "\n",
    "def random_os():\n",
    "    os_list = [\"Windows 10\", \"Windows 11\", \"macOS 13\", \"Linux (Ubuntu)\", \"iOS 17\", \"Android 14\"]\n",
    "    return random.choice(os_list)\n",
    "\n",
    "def random_device():\n",
    "    devices = [\"Desktop\", \"Laptop\", \"Tablet\", \"Mobile\"]\n",
    "    return random.choice(devices)"
   ]
  },
  {
   "cell_type": "code",
   "execution_count": null,
   "id": "69943abf-49ce-4b4b-b771-91927f1fe473",
   "metadata": {
    "microsoft": {
     "language": "python",
     "language_group": "jupyter_python"
    }
   },
   "outputs": [],
   "source": [
    "# --- Create Producer Client ---\n",
    "producer = EventHubProducerClient.from_connection_string(\n",
    "    conn_str=EVENT_HUB_CONNECTION_STR,\n",
    "    eventhub_name=EVENT_HUB_NAME\n",
    ")"
   ]
  },
  {
   "cell_type": "code",
   "execution_count": null,
   "id": "32bb79dc-7e20-42b4-b282-0c8b6abd5c15",
   "metadata": {
    "microsoft": {
     "language": "python",
     "language_group": "jupyter_python"
    }
   },
   "outputs": [],
   "source": [
    "# --- Event Generator ---\n",
    "def generate_event():\n",
    "    country_code, country = random.choice(USER_COUNTRIES)\n",
    "    event_type = random.choice(EVENT_TYPES)\n",
    "    timestamp = now_utc()\n",
    "    user_id = str(uuid.uuid4())\n",
    "    session_id = str(uuid.uuid4())\n",
    "    product_id = random.choice(PRODUCT_IDS)\n",
    "    spike_flag = random.random() < 0.05  # 5% of events are spikes\n",
    "    sku = random.choice(SKU)\n",
    "    cart_spike_magnitude = random.randint(1, 100) if spike_flag else 0\n",
    "\n",
    "\n",
    "    client_info = {\n",
    "        \"ip_address\": random_ip(),\n",
    "        \"browser\": random_browser(),\n",
    "        \"os\": random_os(),\n",
    "        \"device\": random_device()\n",
    "    }\n",
    "\n",
    "    click_path = random_click_path()\n",
    "    referral = random_referral()\n",
    "\n",
    "    payload = {}\n",
    "\n",
    "    # Standard event payload enrichment\n",
    "    if event_type == \"page_view\":\n",
    "        payload[\"page\"] = random.choice(PAGES)\n",
    "    elif event_type in (\"product_click\", \"add_to_cart\", \"remove_from_cart\"):\n",
    "        payload[\"product_id\"] = random.choice(PRODUCT_IDS)\n",
    "        payload[\"price_eur\"] = round(random.uniform(49.99, 199.99), 2)\n",
    "    elif event_type in (\"checkout_initiated\", \"purchase_completed\"):\n",
    "        payload[\"cart_items\"] = random.randint(1, 5)\n",
    "        payload[\"total_value_eur\"] = round(random.uniform(59.99, 499.99), 2)\n",
    "    elif event_type == \"account_created\":\n",
    "        payload[\"account_type\"] = random.choice([\"guest\", \"registered\"])\n",
    "    elif event_type in (\"newsletter_subscribed\", \"newsletter_unsubscribed\"):\n",
    "        payload[\"newsletter\"] = \"ZAVA Deals\"\n",
    "\n",
    "    event = {\n",
    "        \"event_id\": str(uuid.uuid4()),\n",
    "        \"timestamp\": timestamp,\n",
    "        \"event_type\": event_type,\n",
    "        \"user_id\": user_id,\n",
    "        \"session_id\": session_id,\n",
    "        \"sku\": sku,\n",
    "        \"country\": country,\n",
    "        \"country_code\": country_code,\n",
    "        \"referral_source_type\": referral[\"source_type\"],\n",
    "        \"referral_platform\": referral[\"platform\"],\n",
    "        \"product_id\": product_id\n",
    "    }\n",
    "    return event\n"
   ]
  },
  {
   "cell_type": "code",
   "execution_count": null,
   "id": "f6be6764-7f9c-41b8-9747-0dfd5452b629",
   "metadata": {
    "microsoft": {
     "language": "python",
     "language_group": "jupyter_python"
    }
   },
   "outputs": [],
   "source": [
    "# --- Event Emission ---\n",
    "def emit_event(event):\n",
    "    message = json.dumps(event)\n",
    "    try:\n",
    "        event_data = EventData(message)\n",
    "        with producer:\n",
    "            producer.send_batch([event_data])\n",
    "    except Exception as e:\n",
    "        print(\"Failed to send event to Event Hub:\", str(e))\n",
    "    print(message)\n",
    "\n",
    "# --- Continuous Simulation ---\n",
    "def start_simulation(rate_per_second=EVENTS_PER_SECOND):\n",
    "    \"\"\"Emit clickstream events continuously at rate_per_second.\"\"\"\n",
    "    interval = 1.0 / rate_per_second\n",
    "    try:\n",
    "        while True:\n",
    "            evt = generate_event()\n",
    "            emit_event(evt)\n",
    "            time.sleep(interval)\n",
    "    except KeyboardInterrupt:\n",
    "        print(\"Simulation stopped.\")\n",
    "\n",
    "# --- Run Simulation in Background ---\n",
    "thread = threading.Thread(target=start_simulation, args=(EVENTS_PER_SECOND,), daemon=True)\n",
    "thread.start()\n",
    "\n",
    "print(\"ZAVA clickstream simulator is running. Press Ctrl+C to stop the notebook.\")\n",
    "\n",
    "while True:\n",
    "    time.sleep(1)"
   ]
  }
 ],
 "metadata": {
  "a365ComputeOptions": null,
  "dependencies": {
   "lakehouse": {
    "default_lakehouse": "f87afd01-62ed-480d-869a-99fe3b11f421",
    "default_lakehouse_name": "Manufacturing",
    "default_lakehouse_workspace_id": "21733624-95b6-4740-b892-d29ff7889aa4",
    "known_lakehouses": [
     {
      "id": "f87afd01-62ed-480d-869a-99fe3b11f421"
     }
    ]
   }
  },
  "kernel_info": {
   "jupyter_kernel_name": "python3.11",
   "name": "jupyter"
  },
  "kernelspec": {
   "display_name": "Jupyter",
   "language": null,
   "name": "jupyter"
  },
  "language_info": {
   "name": "python"
  },
  "microsoft": {
   "language": "python",
   "language_group": "jupyter_python",
   "ms_spell_check": {
    "ms_spell_check_language": "en"
   }
  },
  "nteract": {
   "version": "nteract-front-end@1.0.0"
  },
  "sessionKeepAliveTimeout": 0,
  "spark_compute": {
   "compute_id": "/trident/default",
   "session_options": {
    "conf": {
     "spark.synapse.nbs.session.timeout": "1200000"
    }
   }
  }
 },
 "nbformat": 4,
 "nbformat_minor": 5
}
